{
 "cells": [
  {
   "cell_type": "code",
   "execution_count": 7,
   "metadata": {},
   "outputs": [
    {
     "name": "stdout",
     "output_type": "stream",
     "text": [
      "Requirement already satisfied: pathlib in d:\\anaconda1\\lib\\site-packages (1.0.1)\n",
      "Requirement already satisfied: praw==7.5.0 in d:\\anaconda1\\lib\\site-packages (7.5.0)\n",
      "Requirement already satisfied: update-checker>=0.18 in d:\\anaconda1\\lib\\site-packages (from praw==7.5.0) (0.18.0)\n",
      "Requirement already satisfied: prawcore<3,>=2.1 in d:\\anaconda1\\lib\\site-packages (from praw==7.5.0) (2.3.0)\n",
      "Requirement already satisfied: websocket-client>=0.54.0 in d:\\anaconda1\\lib\\site-packages (from praw==7.5.0) (1.3.1)\n",
      "Requirement already satisfied: requests<3.0,>=2.6.0 in d:\\anaconda1\\lib\\site-packages (from prawcore<3,>=2.1->praw==7.5.0) (2.18.4)\n",
      "Requirement already satisfied: chardet<3.1.0,>=3.0.2 in d:\\anaconda1\\lib\\site-packages (from requests<3.0,>=2.6.0->prawcore<3,>=2.1->praw==7.5.0) (3.0.4)\n",
      "Requirement already satisfied: idna<2.7,>=2.5 in d:\\anaconda1\\lib\\site-packages (from requests<3.0,>=2.6.0->prawcore<3,>=2.1->praw==7.5.0) (2.6)\n",
      "Requirement already satisfied: urllib3<1.23,>=1.21.1 in d:\\anaconda1\\lib\\site-packages (from requests<3.0,>=2.6.0->prawcore<3,>=2.1->praw==7.5.0) (1.22)\n",
      "Requirement already satisfied: certifi>=2017.4.17 in d:\\anaconda1\\lib\\site-packages (from requests<3.0,>=2.6.0->prawcore<3,>=2.1->praw==7.5.0) (2021.5.30)\n"
     ]
    }
   ],
   "source": [
    "!pip install pathlib\n",
    "!pip install praw==7.5.0"
   ]
  },
  {
   "cell_type": "code",
   "execution_count": 30,
   "metadata": {},
   "outputs": [],
   "source": [
    "from pathlib import Path  \n",
    "import praw\n",
    "import pandas as pd\n",
    "filepath = Path(\"C:/Users/Bluep\\Desktop/API/RedditAPI/result.csv\")  #Location of output CSV"
   ]
  },
  {
   "cell_type": "code",
   "execution_count": 34,
   "metadata": {},
   "outputs": [
    {
     "name": "stdout",
     "output_type": "stream",
     "text": [
      "done\n"
     ]
    }
   ],
   "source": [
    "num_posts = 100 #number of posts desired from \"hot\" catagory *note: some will be filtered out, expect about 50% returns*\n",
    "num_comments = 10 #number of comments desired\n",
    "\n",
    "client_id = \"sg6hcWp52OqHlRaSVeedjw\" #\"Script\" Public id from https://www.reddit.com/prefs/apps\n",
    "client_secret = \"rtVzWPPvRoa2vRoCmG1vpWKX9UTjTg\" #\"Script\" Private id from https://www.reddit.com/prefs/apps\n",
    "username = \"DataCollector123\" #reddit account username\n",
    "password = \"NotaRobot\" #reddit account password\n",
    "user_agent = \"prawdatacollector\"\n",
    "\n",
    "subreddit = \"aww\" #name of subreddit\n",
    "reddit = praw.Reddit(client_id = client_id,\n",
    "                     client_secret = client_secret,\n",
    "                     username = username,\n",
    "                     password = password,\n",
    "                     user_agent = user_agent)\n",
    "\n",
    "subreddit = reddit.subreddit(subreddit) \n",
    "subreddit_posts = subreddit.hot(limit = num_posts)\n",
    "\n",
    "data = []\n",
    "for post in subreddit_posts:\n",
    "    temp = []\n",
    "    if not post.stickied and len(post.comments) >= num_comments and post.domain == 'i.redd.it' and post.is_reddit_media_domain:\n",
    "        #print(dir(post))\n",
    "        #print(post.url)\n",
    "        temp.append(post.title)\n",
    "        temp.append(post.url)\n",
    "        #print(post.title)\n",
    "        j = 0\n",
    "        while j != num_comments:\n",
    "            #print(comments[j].body)\n",
    "            temp.append(post.comments[j].body)\n",
    "            j += 1\n",
    "        data.append(temp)\n",
    "\n",
    "df = pd.DataFrame(data, columns=['Title', 'Image_URL', 'Comment_1','Comment_2','Comment_3','Comment_4','Comment_5','Comment_6','Comment_7','Comment_8','Comment_9','Comment_10'])\n",
    "filepath.parent.mkdir(parents=True, exist_ok=True)  \n",
    "df.to_csv(filepath)  \n",
    "print(\"done\")"
   ]
  },
  {
   "cell_type": "code",
   "execution_count": null,
   "metadata": {},
   "outputs": [],
   "source": []
  }
 ],
 "metadata": {
  "kernelspec": {
   "display_name": "Python 3",
   "language": "python",
   "name": "python3"
  },
  "language_info": {
   "codemirror_mode": {
    "name": "ipython",
    "version": 3
   },
   "file_extension": ".py",
   "mimetype": "text/x-python",
   "name": "python",
   "nbconvert_exporter": "python",
   "pygments_lexer": "ipython3",
   "version": "3.6.5"
  }
 },
 "nbformat": 4,
 "nbformat_minor": 2
}
