{
 "cells": [
  {
   "cell_type": "code",
   "execution_count": 1,
   "metadata": {},
   "outputs": [],
   "source": [
    "from pathlib import Path  \n",
    "import praw\n",
    "import pandas as pd\n",
    "filepath = Path(\"C:/Users/Bluep\\Desktop/API/RedditAPI/result.csv\")  "
   ]
  },
  {
   "cell_type": "code",
   "execution_count": 3,
   "metadata": {},
   "outputs": [
    {
     "name": "stdout",
     "output_type": "stream",
     "text": [
      "done\n"
     ]
    }
   ],
   "source": [
    "reddit = praw.Reddit(client_id = \"jV7W6jzOFSgAigM_sT9p5Q\",\n",
    "                     client_secret = \"4meD70SHfEsyn8g08MttEe2BZ9a-_Q\",\n",
    "                     username = \"DataCollector123\",\n",
    "                     password = \"NotaRobot\",\n",
    "                     user_agent = \"prawdatacollector\")\n",
    "\n",
    "subreddit = reddit.subreddit('cats') #name of subreddit\n",
    "hot_cats = subreddit.hot(limit = 20) #number of posts desired\n",
    "limit = 10 #number of comments desired\n",
    "\n",
    "data = []\n",
    "for post in hot_cats:\n",
    "    temp = []\n",
    "    if not post.stickied and post.num_comments >= limit and post.domain == 'i.redd.it' and post.is_reddit_media_domain:\n",
    "        #print(dir(post))\n",
    "        #print(post.url)\n",
    "        temp.append(post.title)\n",
    "        temp.append(post.url)\n",
    "        #print(post.title)\n",
    "        comments = post.comments\n",
    "        if len(comments) >= limit:\n",
    "            i = 0\n",
    "            while i != limit:\n",
    "                #print(comments[i].body)\n",
    "                temp.append(comments[i].body)\n",
    "                i += 1\n",
    "        data.append(temp)\n",
    "\n",
    "df = pd.DataFrame(data, columns=['Title', 'Image_URL', 'Comment_1','Comment_2','Comment_3','Comment_4','Comment_5','Comment_6','Comment_7','Comment_8','Comment_9','Comment_10'])\n",
    "filepath.parent.mkdir(parents=True, exist_ok=True)  \n",
    "df.to_csv(filepath)  \n",
    "print(\"done\")"
   ]
  },
  {
   "cell_type": "code",
   "execution_count": null,
   "metadata": {},
   "outputs": [],
   "source": []
  }
 ],
 "metadata": {
  "kernelspec": {
   "display_name": "Python 3",
   "language": "python",
   "name": "python3"
  },
  "language_info": {
   "codemirror_mode": {
    "name": "ipython",
    "version": 3
   },
   "file_extension": ".py",
   "mimetype": "text/x-python",
   "name": "python",
   "nbconvert_exporter": "python",
   "pygments_lexer": "ipython3",
   "version": "3.6.5"
  }
 },
 "nbformat": 4,
 "nbformat_minor": 2
}
